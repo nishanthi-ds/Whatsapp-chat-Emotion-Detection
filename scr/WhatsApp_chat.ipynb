{
 "cells": [
  {
   "cell_type": "code",
   "execution_count": 44,
   "id": "443623ac",
   "metadata": {},
   "outputs": [],
   "source": [
    "import pandas as pd\n",
    "import nltk\n",
    "import preprocess\n",
    "from keras.preprocessing.sequence import pad_sequences\n",
    "\n"
   ]
  },
  {
   "cell_type": "code",
   "execution_count": null,
   "id": "76045255",
   "metadata": {},
   "outputs": [],
   "source": [
    "import pandas as pd\n",
    "import re\n",
    "from datetime import datetime\n",
    "\n",
    "import pandas as pd\n",
    "import re\n",
    "from datetime import datetime\n",
    "\n",
    "def parse_chat(filepath):\n",
    "    with open(filepath, 'r', encoding='utf-8') as file:\n",
    "        raw_text = file.read()\n",
    "\n",
    "    # Pattern to match lines with: date, time, name, message\n",
    "    pattern = r'(\\d{1,2}/\\d{1,2}/\\d{2}), (\\d{1,2}:\\d{2} (?:am|pm)) - (.*?): (.*)'\n",
    "\n",
    "    messages = []\n",
    "    for line in raw_text.split('\\n'):\n",
    "        match = re.match(pattern, line)\n",
    "        if match:\n",
    "            date_str, time_str, name, message = match.groups()\n",
    "            # ✅ Skip media and file lines\n",
    "            if \"<Media omitted>\" in message or \"(file attached)\" in message:\n",
    "                continue\n",
    "            dt = datetime.strptime(date_str + \" \" + time_str.replace('\\u202f', ' '), \"%d/%m/%y %I:%M %p\")\n",
    "            messages.append([name, dt, message])\n",
    "        elif messages:\n",
    "            # Continuation of the previous message\n",
    "            if \"<Media omitted>\" in line or \"(file attached)\" in line:\n",
    "                continue\n",
    "            messages[-1][2] += \"\\n\" + line\n",
    "\n",
    "    df = pd.DataFrame(messages, columns=['Name', 'Date', 'Chat'])\n",
    "\n",
    "    return df[['Name', 'Chat']]\n",
    "\n",
    "df =df_data= parse_chat(r\"C:\\Nishanthi\\Hope_AI\\Projects\\Chat_Emotion_Detection\\Main\\WhatsApp Chat with Amma❤️.txt\")"
   ]
  },
  {
   "cell_type": "code",
   "execution_count": 154,
   "id": "05b07dbd",
   "metadata": {},
   "outputs": [
    {
     "data": {
      "text/plain": [
       "Name\n",
       "Amma❤️    277\n",
       "(◔‿◔)     142\n",
       "Name: count, dtype: int64"
      ]
     },
     "execution_count": 154,
     "metadata": {},
     "output_type": "execute_result"
    }
   ],
   "source": [
    "df['Name'].value_counts()"
   ]
  },
  {
   "cell_type": "code",
   "execution_count": 156,
   "id": "32b96cd0",
   "metadata": {},
   "outputs": [
    {
     "data": {
      "text/html": [
       "<div>\n",
       "<style scoped>\n",
       "    .dataframe tbody tr th:only-of-type {\n",
       "        vertical-align: middle;\n",
       "    }\n",
       "\n",
       "    .dataframe tbody tr th {\n",
       "        vertical-align: top;\n",
       "    }\n",
       "\n",
       "    .dataframe thead th {\n",
       "        text-align: right;\n",
       "    }\n",
       "</style>\n",
       "<table border=\"1\" class=\"dataframe\">\n",
       "  <thead>\n",
       "    <tr style=\"text-align: right;\">\n",
       "      <th></th>\n",
       "      <th>Name</th>\n",
       "      <th>Chat</th>\n",
       "    </tr>\n",
       "  </thead>\n",
       "  <tbody>\n",
       "    <tr>\n",
       "      <th>0</th>\n",
       "      <td>(◔‿◔)</td>\n",
       "      <td>ok</td>\n",
       "    </tr>\n",
       "    <tr>\n",
       "      <th>1</th>\n",
       "      <td>(◔‿◔)</td>\n",
       "      <td>mm</td>\n",
       "    </tr>\n",
       "    <tr>\n",
       "      <th>2</th>\n",
       "      <td>Amma❤️</td>\n",
       "      <td>hi</td>\n",
       "    </tr>\n",
       "    <tr>\n",
       "      <th>3</th>\n",
       "      <td>Amma❤️</td>\n",
       "      <td>hi</td>\n",
       "    </tr>\n",
       "    <tr>\n",
       "      <th>4</th>\n",
       "      <td>Amma❤️</td>\n",
       "      <td>kk</td>\n",
       "    </tr>\n",
       "  </tbody>\n",
       "</table>\n",
       "</div>"
      ],
      "text/plain": [
       "     Name Chat\n",
       "0   (◔‿◔)   ok\n",
       "1   (◔‿◔)   mm\n",
       "2  Amma❤️   hi\n",
       "3  Amma❤️   hi\n",
       "4  Amma❤️   kk"
      ]
     },
     "execution_count": 156,
     "metadata": {},
     "output_type": "execute_result"
    }
   ],
   "source": [
    "# clean data and lemmitization\n",
    "\n",
    "column='Chat'\n",
    "df = preprocess.call_all(df, column)\n",
    "df.head()"
   ]
  },
  {
   "cell_type": "code",
   "execution_count": 159,
   "id": "3cacb8f5",
   "metadata": {},
   "outputs": [
    {
     "data": {
      "text/plain": [
       "0                                                 ok\n",
       "1                                                 hi\n",
       "2                                                 hi\n",
       "3                                     message delete\n",
       "4     https play google com store apps detail id com\n",
       "Name: Chat, dtype: object"
      ]
     },
     "execution_count": 159,
     "metadata": {},
     "output_type": "execute_result"
    }
   ],
   "source": [
    "# Make sure words within trained tokenizer \n",
    "\n",
    "import pickle\n",
    "\n",
    "# Load tokenizer\n",
    "with open('model/tokenizer.pkl', 'rb') as f:\n",
    "    tokenizer = pickle.load(f)\n",
    "\n",
    "loaded_word_index = tokenizer.word_index\n",
    "    \n",
    "unknown = []\n",
    "def word_present(text):\n",
    "    s = \"\"\n",
    "    for word in text.split(' '):\n",
    "        if word in loaded_word_index:s += \" \" + word\n",
    "        else:unknown.append(word)\n",
    "    return s \n",
    "\n",
    "df[column] = df[column].apply(lambda x: word_present(x))\n",
    "df = df.dropna()\n",
    "\n",
    "# Drop rows where 'Chat' is NaN or only contains whitespace\n",
    "df = df.dropna(subset=['Chat'])\n",
    "df = df[df['Chat'].str.strip() != '']\n",
    "df = df.reset_index(drop=True)\n",
    "\n",
    "df[column].head()"
   ]
  },
  {
   "cell_type": "code",
   "execution_count": 160,
   "id": "a2d7fc7d",
   "metadata": {},
   "outputs": [],
   "source": [
    "# Tokenize data\n",
    "\n",
    "sequence = tokenizer.texts_to_sequences(df[column])\n",
    "padded_seq = pad_sequences(sequence,maxlen=40, padding='post', truncating= 'post')\n"
   ]
  },
  {
   "cell_type": "code",
   "execution_count": 161,
   "id": "8572b4a2",
   "metadata": {},
   "outputs": [
    {
     "name": "stderr",
     "output_type": "stream",
     "text": [
      "WARNING:absl:Compiled the loaded model, but the compiled metrics have yet to be built. `model.compile_metrics` will be empty until you train or evaluate the model.\n"
     ]
    },
    {
     "name": "stdout",
     "output_type": "stream",
     "text": [
      "\u001b[1m12/12\u001b[0m \u001b[32m━━━━━━━━━━━━━━━━━━━━\u001b[0m\u001b[37m\u001b[0m \u001b[1m0s\u001b[0m 18ms/step\n"
     ]
    }
   ],
   "source": [
    "# Load the model\n",
    "import numpy as np\n",
    "from keras.models import load_model\n",
    "\n",
    "model = load_model('model/emotion_analyzer.h5')\n",
    "\n",
    "predict = model.predict(padded_seq)\n",
    "predict = np.argmax(predict,axis=1)"
   ]
  },
  {
   "cell_type": "code",
   "execution_count": 168,
   "id": "2a3ba870",
   "metadata": {},
   "outputs": [
    {
     "data": {
      "text/html": [
       "<div>\n",
       "<style scoped>\n",
       "    .dataframe tbody tr th:only-of-type {\n",
       "        vertical-align: middle;\n",
       "    }\n",
       "\n",
       "    .dataframe tbody tr th {\n",
       "        vertical-align: top;\n",
       "    }\n",
       "\n",
       "    .dataframe thead th {\n",
       "        text-align: right;\n",
       "    }\n",
       "</style>\n",
       "<table border=\"1\" class=\"dataframe\">\n",
       "  <thead>\n",
       "    <tr style=\"text-align: right;\">\n",
       "      <th></th>\n",
       "      <th>predict</th>\n",
       "    </tr>\n",
       "  </thead>\n",
       "  <tbody>\n",
       "    <tr>\n",
       "      <th>0</th>\n",
       "      <td>1</td>\n",
       "    </tr>\n",
       "    <tr>\n",
       "      <th>1</th>\n",
       "      <td>1</td>\n",
       "    </tr>\n",
       "    <tr>\n",
       "      <th>2</th>\n",
       "      <td>1</td>\n",
       "    </tr>\n",
       "    <tr>\n",
       "      <th>3</th>\n",
       "      <td>1</td>\n",
       "    </tr>\n",
       "    <tr>\n",
       "      <th>4</th>\n",
       "      <td>0</td>\n",
       "    </tr>\n",
       "    <tr>\n",
       "      <th>...</th>\n",
       "      <td>...</td>\n",
       "    </tr>\n",
       "    <tr>\n",
       "      <th>355</th>\n",
       "      <td>1</td>\n",
       "    </tr>\n",
       "    <tr>\n",
       "      <th>356</th>\n",
       "      <td>1</td>\n",
       "    </tr>\n",
       "    <tr>\n",
       "      <th>357</th>\n",
       "      <td>1</td>\n",
       "    </tr>\n",
       "    <tr>\n",
       "      <th>358</th>\n",
       "      <td>1</td>\n",
       "    </tr>\n",
       "    <tr>\n",
       "      <th>359</th>\n",
       "      <td>1</td>\n",
       "    </tr>\n",
       "  </tbody>\n",
       "</table>\n",
       "<p>360 rows × 1 columns</p>\n",
       "</div>"
      ],
      "text/plain": [
       "     predict\n",
       "0          1\n",
       "1          1\n",
       "2          1\n",
       "3          1\n",
       "4          0\n",
       "..       ...\n",
       "355        1\n",
       "356        1\n",
       "357        1\n",
       "358        1\n",
       "359        1\n",
       "\n",
       "[360 rows x 1 columns]"
      ]
     },
     "execution_count": 168,
     "metadata": {},
     "output_type": "execute_result"
    }
   ],
   "source": [
    "predict =  pd.DataFrame(predict, columns=['predict'])\n",
    "predict"
   ]
  },
  {
   "cell_type": "code",
   "execution_count": 163,
   "id": "51e7446d",
   "metadata": {},
   "outputs": [
    {
     "data": {
      "text/plain": [
       "0                                                     Ok\n",
       "1                                                     Mm\n",
       "2                                                     Hi\n",
       "3                                                     Hi\n",
       "4                                                     Kk\n",
       "                             ...                        \n",
       "414    https://youtube.com/shorts/GT2_3bSd4xw?si=niME...\n",
       "415    https://youtube.com/shorts/2FabYujOSrs?si=j60N...\n",
       "416    https://youtube.com/shorts/HRrMDqiVIF4?si=KAVD...\n",
       "417    https://youtube.com/shorts/vEZiQHDFWYw?si=MyG1...\n",
       "418    https://youtube.com/shorts/v1KEtMGSWMQ?si=WG1p...\n",
       "Name: Chat, Length: 419, dtype: object"
      ]
     },
     "execution_count": 163,
     "metadata": {},
     "output_type": "execute_result"
    }
   ],
   "source": [
    "df_data['Chat']"
   ]
  },
  {
   "cell_type": "code",
   "execution_count": 164,
   "id": "41c88eeb",
   "metadata": {},
   "outputs": [],
   "source": [
    "# get each peoples coversation prediction\n",
    "df = df.reset_index(drop=True)\n",
    "unique_names= df['Name'].unique()\n",
    "name_chat_dict = {}\n",
    "chat_emotions = {}\n",
    "for name in unique_names:\n",
    "    name_df = df[df['Name'] == name]\n",
    "    name_chat_dict[name] = name_df.index  #name_df['Chat']\n",
    "    chat_emotions[name] =  predict['predict'].loc[list(name_df.index)]"
   ]
  },
  {
   "cell_type": "code",
   "execution_count": 166,
   "id": "ae7ff78a",
   "metadata": {},
   "outputs": [
    {
     "data": {
      "image/png": "[encoded data removed]",
      "text/plain": [
       "<Figure size 800x120 with 1 Axes>"
      ]
     },
     "metadata": {},
     "output_type": "display_data"
    }
   ],
   "source": [
    "import matplotlib.pyplot as plt\n",
    "\n",
    "def plot_chatcount(df_data):\n",
    "    # Count chats per name\n",
    "    chat_counts = df_data['Name'].value_counts()\n",
    "\n",
    "    # Set up the figure height dynamically based on number of entries\n",
    "    fig_height = max(1, len(chat_counts) * 0.6)\n",
    "    plt.figure(figsize=(8, fig_height))\n",
    "    plt.axis('off')  # Hide axes\n",
    "\n",
    "    # Write each name and chat count with proper vertical spacing\n",
    "    for i, (name, count) in enumerate(chat_counts.items()):\n",
    "        y_pos = len(chat_counts) - i  # descending order (top to bottom)\n",
    "        plt.text(0.01, y_pos, f\"$\\\\bf{{{name}}}$: {count} chats\", fontsize=12, va='top')\n",
    "\n",
    "\n",
    "    plt.title(\"Number of Chats per Name\", fontsize=14, weight='bold', loc='left')\n",
    "    plt.xlim(0, 1)\n",
    "    plt.ylim(0, len(chat_counts) + 1)\n",
    "    plt.tight_layout()\n",
    "    plt.show()\n",
    "\n",
    "plot_chatcount(df_data)"
   ]
  },
  {
   "cell_type": "code",
   "execution_count": 169,
   "id": "97cc120c",
   "metadata": {},
   "outputs": [
    {
     "data": {
      "image/png": "[encoded data removed]",
      "text/plain": [
       "<Figure size 1000x500 with 2 Axes>"
      ]
     },
     "metadata": {},
     "output_type": "display_data"
    }
   ],
   "source": [
    "\n",
    "# Label mapping\n",
    "label_map = {\n",
    "    0: 'sadness',\n",
    "    1: 'joy',\n",
    "    2: 'love',\n",
    "    3: 'anger',\n",
    "    4: 'fear',\n",
    "    5: 'surprise'\n",
    "}\n",
    "\n",
    "plot_piechart(chat_emotions, label_map)"
   ]
  },
  {
   "cell_type": "code",
   "execution_count": null,
   "id": "3207e2bc",
   "metadata": {},
   "outputs": [],
   "source": []
  }
 ],
 "metadata": {
  "kernelspec": {
   "display_name": "Python 3",
   "language": "python",
   "name": "python3"
  },
  "language_info": {
   "codemirror_mode": {
    "name": "ipython",
    "version": 3
   },
   "file_extension": ".py",
   "mimetype": "text/x-python",
   "name": "python",
   "nbconvert_exporter": "python",
   "pygments_lexer": "ipython3",
   "version": "3.10.16"
  }
 },
 "nbformat": 4,
 "nbformat_minor": 5
}
